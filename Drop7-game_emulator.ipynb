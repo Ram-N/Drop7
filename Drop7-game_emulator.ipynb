{
 "cells": [
  {
   "cell_type": "markdown",
   "metadata": {},
   "source": [
    "This notebook is adapted from:\n",
    "https://github.com/JannesKlaas/sometimes_deep_sometimes_learning/blob/master/reinforcement.ipynb\n"
   ]
  },
  {
   "cell_type": "code",
   "execution_count": 137,
   "metadata": {},
   "outputs": [],
   "source": [
    "import numpy as np\n",
    "import random\n",
    "import scipy\n",
    "\n",
    "from file_utils import *"
   ]
  },
  {
   "cell_type": "code",
   "execution_count": 147,
   "metadata": {
    "collapsed": true
   },
   "outputs": [],
   "source": [
    "_SIZE = 7\n",
    "_FRACTION = (0.5, 0.7)\n",
    "HORIZ, VERT = 0, 1\n",
    "_printfreq = 30\n",
    "_BALLS_TO_LEVELUP = 20\n",
    "_outfile = \"gamestats.txt\""
   ]
  },
  {
   "cell_type": "code",
   "execution_count": 5,
   "metadata": {
    "collapsed": true
   },
   "outputs": [],
   "source": [
    "def apply_gravity_to_column(column):\n",
    "    '''\n",
    "    An entire column is adjusted for 'gravity.' All the zeros float to the top.\n",
    "    All the other numbers come down as needed.\n",
    "    '''\n",
    "\n",
    "    original = column[:] #original\n",
    "    updated  = column[:] #this can be changed\n",
    "    flip_flag = 1\n",
    "    safety_brkr = 0\n",
    "    flip_occurred = False\n",
    "    \n",
    "    while flip_flag:\n",
    "        a = updated[:]\n",
    "        safety_brkr += 1\n",
    "        flip_flag = 0 # off\n",
    "        for index, (up, down) in enumerate(zip(a[:-1], a[1:])):        \n",
    "            if up and not down:\n",
    "                updated[index], updated[index+1] = 0, up\n",
    "                # print(\"After \", index, \"Column looks like:\", column)\n",
    "                flip_flag = 1 # at least one flip happened, so keep going\n",
    "                flip_occurred = True\n",
    "                if safety_brkr >= 100:\n",
    "                    flip_flag = 0\n",
    "                    \n",
    "    return (flip_occurred, original, updated)\n",
    "\n"
   ]
  },
  {
   "cell_type": "code",
   "execution_count": 6,
   "metadata": {
    "collapsed": true
   },
   "outputs": [],
   "source": [
    "def generate_init_grid(_SIZE):\n",
    "    '''\n",
    "    drop-7 starting grid with a few rules.\n",
    "    \n",
    "    Explode as needed (vertical)\n",
    "    Explode as needed (horizontal)\n",
    "    '''\n",
    "    grid = np.zeros((_SIZE,_SIZE), dtype=np.int) # Example array\n",
    "    \n",
    "    for x in np.nditer(grid, op_flags=['readwrite']):\n",
    "        #generate a U(0,1). If it is less than _fraction, then get a random integer from 1..7\n",
    "        if random.random() <= random.uniform(_FRACTION[0], _FRACTION[1]):\n",
    "            x[...] = random.randint(1,_SIZE) #ellipsis will modify the right element\n",
    "    \n",
    "    #apply gravity to each column\n",
    "    for colnum in range(grid.shape[1]):\n",
    "        _,_, new = apply_gravity_to_column(grid[:, colnum])\n",
    "        grid[ :, colnum] = new\n",
    "    \n",
    "    return grid\n",
    "\n"
   ]
  },
  {
   "cell_type": "code",
   "execution_count": 7,
   "metadata": {
    "collapsed": true
   },
   "outputs": [],
   "source": [
    "def row(grid, rnum, _string):\n",
    "    grid[_SIZE-1-rnum, :] = list(_string)\n",
    "    return grid\n",
    "    \n",
    "def zerow(grid, rnum):\n",
    "    grid[_SIZE-1-rnum,:] = list('0')*_SIZE\n",
    "\n",
    "def zecol(grid, cnum):\n",
    "    grid[:, cnum] = list('0')*_SIZE\n",
    "\n",
    "def grid_of_zeros(size=_SIZE):\n",
    "    return np.zeros((size,size), dtype=np.int)\n",
    "\n",
    "def grid_of_ones(size=_SIZE):\n",
    "    return np.ones((size,size), dtype=np.int)"
   ]
  },
  {
   "cell_type": "code",
   "execution_count": 9,
   "metadata": {},
   "outputs": [
    {
     "data": {
      "text/plain": [
       "array([[0, 0, 0, 0, 0, 0, 0],\n",
       "       [0, 0, 0, 0, 0, 0, 0],\n",
       "       [0, 0, 0, 0, 0, 0, 0],\n",
       "       [0, 0, 0, 0, 0, 0, 0],\n",
       "       [6, 2, 6, 0, 0, 0, 0],\n",
       "       [7, 1, 3, 1, 3, 5, 2],\n",
       "       [4, 1, 4, 3, 0, 3, 6]])"
      ]
     },
     "execution_count": 9,
     "metadata": {},
     "output_type": "execute_result"
    }
   ],
   "source": [
    "recreate_grid(7)"
   ]
  },
  {
   "cell_type": "code",
   "execution_count": 11,
   "metadata": {},
   "outputs": [
    {
     "data": {
      "text/plain": [
       "array([[0, 0, 0, 0, 0, 0, 0],\n",
       "       [0, 0, 0, 0, 0, 0, 0],\n",
       "       [0, 2, 0, 0, 0, 0, 0],\n",
       "       [0, 5, 2, 0, 7, 6, 6],\n",
       "       [5, 1, 7, 0, 1, 6, 2],\n",
       "       [2, 6, 2, 0, 6, 5, 3],\n",
       "       [7, 4, 6, 2, 4, 1, 3]])"
      ]
     },
     "execution_count": 11,
     "metadata": {},
     "output_type": "execute_result"
    }
   ],
   "source": [
    "generate_init_grid(7)"
   ]
  },
  {
   "cell_type": "code",
   "execution_count": 12,
   "metadata": {
    "collapsed": true
   },
   "outputs": [],
   "source": [
    "from itertools import groupby\n",
    "\n",
    "def mask(vec):\n",
    "    return([x > 0 for x in vec])\n",
    "\n",
    "\n",
    "def get_mask_lengths(_vec):\n",
    "    '''\n",
    "    Outputs a tuple of rle lengths, 0's and 1's and their rle's\n",
    "    '''\n",
    "    \n",
    "    m = mask(_vec)\n",
    "    b = range(len(m))\n",
    "    ml = []\n",
    "    for group in groupby(iter(b), lambda x: m[x]): # use m[x] as the grouping key.\n",
    "        ml.append((group[0], len(list(group[1])))) #group[0] is 1 or 0. and group[1] is its rle\n",
    "\n",
    "    return ml\n",
    "\n",
    "\n",
    "def blank_out(_num, vec):\n",
    "    return [0 if x ==_num else x for x in vec]\n",
    "\n",
    "\n",
    "def inplace_explosions(vec):\n",
    "    \n",
    "    potential = True\n",
    "    exp_occurred = False\n",
    "    \n",
    "    original = [x for x in vec] #manually creating a deepcopy\n",
    "    updated = [x for x in vec] #manually creating a deepcopy\n",
    "    while potential:\n",
    "        potential = False\n",
    "        ml = get_mask_lengths(updated) # number of contiguous non-zeros\n",
    "        #print(ml)\n",
    "        start, end = 0, 0\n",
    "        for piece in ml:\n",
    "            _len = piece[1]\n",
    "            start = end\n",
    "            end = start + _len\n",
    "            #print(vec[start:end])\n",
    "            if piece[0]: #True, nonzero elements exist        \n",
    "                seg = updated[start:end]\n",
    "                newseg = blank_out(_len, seg)\n",
    "                if(seg != newseg):\n",
    "                    potential = True # there could be more explosions\n",
    "                    exp_occurred = True\n",
    "                    updated[start:end] = newseg[:]\n",
    "\n",
    "    unchanged = [1 if i==j else 0 for i,j in zip(original, updated)]\n",
    "                \n",
    "    # print(\"Exp occurred\", exp_occurred)\n",
    "    return (exp_occurred, original, unchanged)"
   ]
  },
  {
   "cell_type": "markdown",
   "metadata": {},
   "source": [
    "### Logic used in Updating Grid\n",
    "\n",
    "    init_grid()\n",
    "    for each row, calculate explosions (but don't execute them)\n",
    "    for each col, caluclate explosions (but don't execute them)\n",
    "    EXECUTE ALL THE EXPLOSIONS AT ONCE.\n",
    "    Grid has been updated.\n",
    "    Now, Gravity to each of the columns.\n",
    "    Rinse and repeat!"
   ]
  },
  {
   "cell_type": "code",
   "execution_count": 14,
   "metadata": {
    "collapsed": true
   },
   "outputs": [],
   "source": [
    "def apply_explosions_to_grid(grid):\n",
    "    \n",
    "    row_mask, col_mask = grid_of_ones(_SIZE), grid_of_ones(_SIZE)\n",
    "    for i in range(_SIZE):\n",
    "        _, _, row_mask[i, :] = inplace_explosions(grid[i, :])\n",
    "        _, _, col_mask[:, i] = inplace_explosions(grid[:, i])\n",
    "        \n",
    "        \n",
    "    for i in range(_SIZE):\n",
    "        grid[i, :] = grid[i, :] * row_mask[i, :]\n",
    "        grid[:, i] = grid[:, i] * col_mask[:, i]\n",
    "        \n",
    "    \n",
    "    return(grid)\n",
    "\n",
    "\n",
    "def apply_gravity_to_grid(grid):    \n",
    "    \n",
    "    original = grid.copy()\n",
    "    for i in range(_SIZE):\n",
    "        _,_,grid[:, i] = apply_gravity_to_column(grid[:, i])\n",
    "            \n",
    "            \n",
    "    updated = grid.copy()\n",
    "    return(grid, np.array_equal(updated, original))\n"
   ]
  },
  {
   "cell_type": "code",
   "execution_count": 15,
   "metadata": {},
   "outputs": [],
   "source": [
    "def update_grid(grid):\n",
    "\n",
    "    stop_flag = 0\n",
    "    while not stop_flag:\n",
    "        grid = apply_explosions_to_grid(grid)\n",
    "        grid, stop_flag = apply_gravity_to_grid(grid)\n",
    "    \n",
    "    return grid"
   ]
  },
  {
   "cell_type": "code",
   "execution_count": 119,
   "metadata": {},
   "outputs": [],
   "source": [
    "def recreate_grid(size=_SIZE):\n",
    "    grid = grid_of_zeros(size)\n",
    "    grid = row(grid, 0, '4143836')\n",
    "    grid = row(grid, 1,'7131352')\n",
    "    grid = row(grid, 2,'6260800')\n",
    "    #list('52134335')\n",
    "    return grid\n",
    "    #zecol(3)"
   ]
  },
  {
   "cell_type": "code",
   "execution_count": 124,
   "metadata": {},
   "outputs": [
    {
     "name": "stdout",
     "output_type": "stream",
     "text": [
      "[[0 0 0 0 0 0 0]\n",
      " [0 0 0 0 0 0 0]\n",
      " [0 0 0 0 0 0 0]\n",
      " [0 0 0 0 0 0 0]\n",
      " [6 2 6 0 8 0 0]\n",
      " [7 1 3 1 3 5 2]\n",
      " [4 1 4 3 8 3 6]]\n",
      "[[0 0 0 0 0 0 0]\n",
      " [0 0 0 0 0 0 0]\n",
      " [0 0 0 0 0 0 0]\n",
      " [0 0 0 0 0 0 0]\n",
      " [0 0 0 0 0 0 0]\n",
      " [0 0 0 1 8 5 0]\n",
      " [4 0 4 3 8 3 6]]\n"
     ]
    }
   ],
   "source": [
    "grid = recreate_grid()\n",
    "#grid = generate_init_grid(7)\n",
    "print(grid) \n",
    "grid = update_grid(grid)\n",
    "print(grid)"
   ]
  },
  {
   "cell_type": "code",
   "execution_count": 17,
   "metadata": {},
   "outputs": [
    {
     "data": {
      "text/plain": [
       "array([[0, 0, 0, 0, 0, 0, 0],\n",
       "       [0, 0, 0, 0, 0, 0, 0],\n",
       "       [0, 0, 0, 0, 0, 0, 0],\n",
       "       [0, 0, 0, 0, 0, 0, 0],\n",
       "       [0, 0, 0, 0, 0, 0, 0],\n",
       "       [0, 0, 0, 3, 6, 0, 0],\n",
       "       [5, 5, 4, 5, 1, 2, 0]])"
      ]
     },
     "execution_count": 17,
     "metadata": {},
     "output_type": "execute_result"
    }
   ],
   "source": [
    "update_grid(grid)"
   ]
  },
  {
   "cell_type": "markdown",
   "metadata": {},
   "source": [
    "### Logic used the Game Loop\n",
    "\n",
    "\n",
    "    init_grid()\n",
    "    \n",
    "    while not game_over:\n",
    "        update_grid()\n",
    "        generate_next_ball()\n",
    "        get_column()\n",
    "        drop_ball_in_column()\n",
    "    \n"
   ]
  },
  {
   "cell_type": "code",
   "execution_count": 197,
   "metadata": {},
   "outputs": [],
   "source": [
    "def generate_next_ball(size = _SIZE):\n",
    "    return random.randint(1,size)\n",
    "\n",
    "def get_column_to_drop_ball(grid, ball):\n",
    "    \n",
    "    #need better logic soon\n",
    "    return random.randint(0,_SIZE-1)\n",
    "    \n",
    "     \n",
    "def nz(grid):\n",
    "    return np.count_nonzero(grid)\n",
    "\n",
    "def is_grid_full(grid):\n",
    "    nz = np.count_nonzero(grid)\n",
    "    return nz == (_SIZE * _SIZE)\n",
    "    \n",
    "def drop_ball_in_column(grid, col, ball):\n",
    "    '''\n",
    "    If valid column, find the first zero in the column and replace the value there.\n",
    "    If column is full, return illegal flag\n",
    "    If grid is full game_over\n",
    "    '''\n",
    "    game_over = is_grid_full(grid)\n",
    "    gcol = grid[:, col]\n",
    "    slot = np.where(gcol==0)[0]\n",
    "    if not slot.size: #returned []\n",
    "        need_another_col = True\n",
    "    else:\n",
    "        need_another_col = False\n",
    "\n",
    "    if not game_over and not need_another_col:\n",
    "        grid[slot[-1], col] = ball # place in the last zero column, from the top\n",
    "        \n",
    "    if game_over:\n",
    "        need_another_col = False\n",
    "  \n",
    "        \n",
    "    return(grid, game_over, need_another_col)\n",
    "\n",
    "\n"
   ]
  },
  {
   "cell_type": "code",
   "execution_count": 178,
   "metadata": {},
   "outputs": [],
   "source": [
    "class _stats(object):\n",
    "    \n",
    "\n",
    "    def reset():\n",
    "        _stats.ball_count = 0\n",
    "        _stats.levelup_count = 0\n",
    "        print(\"\", file=open(_outfile, \"w\"))\n",
    "        \n",
    "    def ball_drop():\n",
    "        _stats.ball_count += 1\n",
    "        \n",
    "    def level_up():\n",
    "        _stats.levelup_count += 1\n",
    "\n",
    "\n",
    "    "
   ]
  },
  {
   "cell_type": "code",
   "execution_count": 209,
   "metadata": {
    "collapsed": true
   },
   "outputs": [],
   "source": [
    "def top_row_occupied(grid, _SIZE):\n",
    "    return np.count_nonzero(grid[0, :])\n",
    "\n",
    "def level_up(grid):\n",
    "    '''\n",
    "    Add a row of balls to the bottom of the grid.\n",
    "    If the top row has any ball, Game Over\n",
    "    '''\n",
    "    # if top row has something, return grid and gameover\n",
    "    if(top_row_occupied(grid, _SIZE)):\n",
    "        return grid, 1 #game over\n",
    "        \n",
    "        \n",
    "    original = grid.copy()\n",
    "    for i in range(_SIZE - 1):\n",
    "        grid[i, :] = original[i+1, :]\n",
    "\n",
    "    for j in range(_SIZE):\n",
    "        grid[-1, : j] = random.randint(1,_SIZE)\n",
    "            \n",
    "    \n",
    "    return grid, 0"
   ]
  },
  {
   "cell_type": "code",
   "execution_count": 221,
   "metadata": {},
   "outputs": [],
   "source": [
    "def play():\n",
    "    \n",
    "    \n",
    "    s = _stats\n",
    "    s.reset()\n",
    "    game_over = False\n",
    "    col = 0\n",
    "    #grid = recreate_grid()\n",
    "    grid = generate_init_grid(_SIZE)\n",
    "    \n",
    "    \n",
    "    while not game_over:\n",
    "        s.ball_drop() #stats\n",
    "        need_another_col = True\n",
    "        grid = update_grid(grid)\n",
    "        if s.ball_count % _BALLS_TO_LEVELUP == 0:\n",
    "            s.level_up()\n",
    "            print(grid, s.ball_count, file=open(_outfile, \"a\"))\n",
    "            print(\"LEVEL UP\", file=open(_outfile, \"a\"))\n",
    "            grid, game_over = level_up(grid)\n",
    "            print(grid, s.ball_count, file=open(_outfile, \"a\"))\n",
    "            if game_over:\n",
    "                break\n",
    "            grid = update_grid(grid) #update grid after Leveling up\n",
    "            \n",
    "        ball = generate_next_ball(_SIZE)\n",
    "        print(\"Ball is \", ball, \"column is\", col, \"nz\", nz(grid), file=open(_outfile, \"a\"))\n",
    "        \n",
    "        while need_another_col:\n",
    "            col = get_column_to_drop_ball(grid, ball)\n",
    "            grid, game_over, need_another_col = drop_ball_in_column(grid, col, ball)\n",
    "            \n",
    "\n",
    "    print(\"GAME OVER\")\n",
    "    print(grid)\n",
    "    print(np.count_nonzero(grid))\n",
    "    print(\"DONE\")\n",
    "    print(s.ball_count, s.levelup_count)\n",
    "          "
   ]
  },
  {
   "cell_type": "code",
   "execution_count": 223,
   "metadata": {},
   "outputs": [
    {
     "name": "stdout",
     "output_type": "stream",
     "text": [
      "GAME OVER\n",
      "[[0 0 4 0 0 0 0]\n",
      " [0 0 5 7 0 0 0]\n",
      " [0 0 4 4 7 0 0]\n",
      " [0 0 2 2 7 0 0]\n",
      " [0 0 1 2 1 0 6]\n",
      " [0 0 1 1 1 0 4]\n",
      " [5 5 5 1 1 5 4]]\n",
      "24\n",
      "DONE\n",
      "1040 52\n",
      "Wall time: 1.91 s\n"
     ]
    }
   ],
   "source": [
    "%%time\n",
    "play()"
   ]
  },
  {
   "cell_type": "code",
   "execution_count": 175,
   "metadata": {},
   "outputs": [
    {
     "data": {
      "text/plain": [
       "1"
      ]
     },
     "execution_count": 175,
     "metadata": {},
     "output_type": "execute_result"
    }
   ],
   "source": [
    "s.ball_count"
   ]
  },
  {
   "cell_type": "code",
   "execution_count": null,
   "metadata": {
    "collapsed": true
   },
   "outputs": [],
   "source": []
  },
  {
   "cell_type": "code",
   "execution_count": null,
   "metadata": {
    "collapsed": true
   },
   "outputs": [],
   "source": []
  },
  {
   "cell_type": "code",
   "execution_count": null,
   "metadata": {},
   "outputs": [],
   "source": [
    "vec = [7,2,3,4,4,5,6]\n",
    "inplace_explosions(vec)"
   ]
  },
  {
   "cell_type": "markdown",
   "metadata": {},
   "source": [
    "[531...\n",
    "["
   ]
  },
  {
   "cell_type": "code",
   "execution_count": null,
   "metadata": {},
   "outputs": [],
   "source": [
    "vec = [0, 0, 0, 4, 7, 4, 7]\n",
    "vec = [4, 1, 4, 3, 7, 7, 2]\n",
    "\n",
    "vec = [int(x) for x in list('4327147')]\n",
    "#apply_explosions_to_line(vec, HORIZ)\n",
    "update_line(vec, 1)"
   ]
  },
  {
   "cell_type": "code",
   "execution_count": null,
   "metadata": {},
   "outputs": [],
   "source": [
    "generate_init_grid(4)\n"
   ]
  },
  {
   "cell_type": "code",
   "execution_count": null,
   "metadata": {
    "collapsed": true
   },
   "outputs": [],
   "source": [
    "class Drop7(object):\n",
    "    \"\"\"\n",
    "    Class Drop7 is the actual game.\n",
    "    \n",
    "    \n",
    "    \"\"\"\n",
    "    def __init__(self, grid_size=7):\n",
    "        self.grid_size = grid_size\n",
    "        self.reset()\n",
    "\n",
    "    def _update_state(self, action):\n",
    "        \"\"\"\n",
    "        Input: action and states\n",
    "        Ouput: new states and reward\n",
    "        \"\"\"\n",
    "        state = self.state\n",
    "        if action == 0:  # left\n",
    "            action = -1\n",
    "        elif action == 1:  # stay\n",
    "            action = 0\n",
    "        else:\n",
    "            action = 1  # right\n",
    "        f0, f1, basket = state[0]\n",
    "        new_basket = min(max(1, basket + action), self.grid_size-1)\n",
    "        f0 += 1\n",
    "        out = np.asarray([f0, f1, new_basket])\n",
    "        out = out[np.newaxis]\n",
    "\n",
    "        assert len(out.shape) == 2\n",
    "        self.state = out\n",
    "\n",
    "    def _draw_state(self):\n",
    "        im_size = (self.grid_size,)*2\n",
    "        state = self.state[0]\n",
    "        canvas = np.zeros(im_size)\n",
    "        canvas[state[0], state[1]] = 1  # draw fruit\n",
    "        canvas[-1, state[2]-1:state[2] + 2] = 1  # draw basket\n",
    "        return canvas\n",
    "        \n",
    "    def _get_reward(self):\n",
    "        fruit_row, fruit_col, basket = self.state[0]\n",
    "        if fruit_row == self.grid_size-1:\n",
    "            if abs(fruit_col - basket) <= 1:\n",
    "                return 1\n",
    "            else:\n",
    "                return -1\n",
    "        else:\n",
    "            return 0\n",
    "\n",
    "    def _is_over(self):\n",
    "        if self.state[0, 0] == self.grid_size-1:\n",
    "            return True\n",
    "        else:\n",
    "            return False\n",
    "\n",
    "    def observe(self):\n",
    "        canvas = self._draw_state()\n",
    "        return canvas.reshape((1, -1))\n",
    "\n",
    "    def act(self, action):\n",
    "        self._update_state(action)\n",
    "        reward = self._get_reward()\n",
    "        game_over = self._is_over()\n",
    "        return self.observe(), reward, game_over\n",
    "\n",
    "    def reset(self):\n",
    "        n = np.random.randint(0, self.grid_size-1, size=1)\n",
    "        m = np.random.randint(1, self.grid_size-2, size=1)\n",
    "        self.state = np.asarray([0, n, m])[np.newaxis]\n",
    "        \n",
    "    def get_state(self):\n",
    "        return self.state"
   ]
  },
  {
   "cell_type": "code",
   "execution_count": null,
   "metadata": {
    "collapsed": true
   },
   "outputs": [],
   "source": [
    "class Catch(object):\n",
    "    \"\"\"\n",
    "    Class Catch is the actual game.\n",
    "    \n",
    "    \n",
    "    \"\"\"\n",
    "    def __init__(self, grid_size=7):\n",
    "        self.grid_size = grid_size\n",
    "        self.reset() # redraws the grid...\n",
    "\n",
    "    def _update_state(self, action):\n",
    "        \"\"\"\n",
    "        Input: action and states\n",
    "        Ouput: new states and reward\n",
    "        \n",
    "        This is typically called by act().\n",
    "        \"\"\"\n",
    "        state = self.state\n",
    "        print(\"state before action\", self.state)\n",
    "        if action == 0:  # left\n",
    "            action = -1\n",
    "        elif action == 1:  # stay\n",
    "            action = 0\n",
    "        else:\n",
    "            action = 1  # right\n",
    "        fr, fc, basket = state[0]\n",
    "        new_basket = min(max(1, basket + action), self.grid_size-1)\n",
    "        fr += 1 #ball drops down\n",
    "        out = np.asarray([fr, fc, new_basket])\n",
    "        out = out[np.newaxis]\n",
    "\n",
    "        assert len(out.shape) == 2\n",
    "        self.state = out\n",
    "\n",
    "    def _draw_state(self):\n",
    "        im_size = (self.grid_size,)*2\n",
    "        state = self.state[0]\n",
    "        canvas = np.zeros(im_size)\n",
    "        canvas[state[0], state[1]] = 1  # draw fruit\n",
    "        canvas[-1, state[2]-1:state[2] + 2] = 1  # draw basket\n",
    "        return canvas\n",
    "        \n",
    "    def _get_reward(self):\n",
    "        fruit_row, fruit_col, basket = self.state[0]\n",
    "        print(self.state[0])\n",
    "        # only the final action (catch or drop the ball) gets a nonzero reward\n",
    "        if fruit_row == self.grid_size-1: \n",
    "            if abs(fruit_col - basket) <= 1:\n",
    "                return 1\n",
    "            else:\n",
    "                return -1\n",
    "        else:\n",
    "            return 0\n",
    "\n",
    "    def _is_over(self):\n",
    "        if self.state[0, 0] == self.grid_size-1:\n",
    "            return True\n",
    "        else:\n",
    "            return False\n",
    "\n",
    "    def observe(self):\n",
    "        canvas = self._draw_state()\n",
    "        return canvas.reshape((1, -1))\n",
    "\n",
    "    def act(self, action):\n",
    "        self._update_state(action)\n",
    "        reward = self._get_reward()\n",
    "        game_over = self._is_over()\n",
    "        return self.observe(), reward, game_over\n",
    "\n",
    "    def reset(self):\n",
    "        n = np.random.randint(0, self.grid_size-1, size=1) #column of the Ball\n",
    "        m = np.random.randint(1, self.grid_size-2, size=1) # column of Basket center\n",
    "        self.state = np.asarray([0, n, m])[np.newaxis]\n",
    "        \n",
    "    def get_state(self):\n",
    "        return self.state"
   ]
  },
  {
   "cell_type": "code",
   "execution_count": null,
   "metadata": {},
   "outputs": [],
   "source": [
    "env = Drop7()\n",
    "env.get_state()"
   ]
  },
  {
   "cell_type": "code",
   "execution_count": null,
   "metadata": {
    "collapsed": true
   },
   "outputs": [],
   "source": [
    "# Define environment/game\n",
    "grid_size = 7\n",
    "env = Drop7(grid_size)"
   ]
  },
  {
   "cell_type": "code",
   "execution_count": null,
   "metadata": {
    "collapsed": true
   },
   "outputs": [],
   "source": [
    "env.reset()"
   ]
  },
  {
   "cell_type": "code",
   "execution_count": null,
   "metadata": {},
   "outputs": [],
   "source": [
    "env.observe()"
   ]
  },
  {
   "cell_type": "code",
   "execution_count": null,
   "metadata": {},
   "outputs": [],
   "source": [
    "env._draw_state()"
   ]
  },
  {
   "cell_type": "code",
   "execution_count": null,
   "metadata": {
    "collapsed": true
   },
   "outputs": [],
   "source": [
    "env.reset()"
   ]
  },
  {
   "cell_type": "code",
   "execution_count": null,
   "metadata": {},
   "outputs": [],
   "source": [
    "env.act(-1)\n",
    "env._draw_state()\n",
    "env.get_state(), env._get_reward()\n"
   ]
  },
  {
   "cell_type": "code",
   "execution_count": null,
   "metadata": {},
   "outputs": [],
   "source": [
    "env.observe()"
   ]
  },
  {
   "cell_type": "code",
   "execution_count": null,
   "metadata": {},
   "outputs": [],
   "source": [
    "env.get_state()[0,1]"
   ]
  },
  {
   "cell_type": "code",
   "execution_count": null,
   "metadata": {},
   "outputs": [],
   "source": [
    "c"
   ]
  },
  {
   "cell_type": "code",
   "execution_count": null,
   "metadata": {
    "collapsed": true
   },
   "outputs": [],
   "source": [
    "state =  np.asarray([0, 1, 2])[np.newaxis]"
   ]
  },
  {
   "cell_type": "code",
   "execution_count": null,
   "metadata": {},
   "outputs": [],
   "source": [
    "np.asarray([1,1,1]).shape, np.asarray([1,1,1])[np.newaxis][np.newaxis].shape"
   ]
  },
  {
   "cell_type": "code",
   "execution_count": null,
   "metadata": {},
   "outputs": [],
   "source": [
    "state[0,1]"
   ]
  },
  {
   "cell_type": "code",
   "execution_count": null,
   "metadata": {},
   "outputs": [],
   "source": [
    "grid_size=7\n",
    "im_size = (grid_size,)*2\n",
    "grid = np.zeros(im_size)\n",
    "grid"
   ]
  },
  {
   "cell_type": "code",
   "execution_count": null,
   "metadata": {},
   "outputs": [],
   "source": [
    "grid[:,2]"
   ]
  },
  {
   "cell_type": "code",
   "execution_count": null,
   "metadata": {
    "collapsed": true
   },
   "outputs": [],
   "source": [
    "grid[2]  = 3"
   ]
  },
  {
   "cell_type": "code",
   "execution_count": null,
   "metadata": {
    "collapsed": true
   },
   "outputs": [],
   "source": [
    "grid[:,2] = 4"
   ]
  },
  {
   "cell_type": "code",
   "execution_count": null,
   "metadata": {
    "collapsed": true
   },
   "outputs": [],
   "source": [
    "grid[6,6] = 6"
   ]
  },
  {
   "cell_type": "code",
   "execution_count": null,
   "metadata": {},
   "outputs": [],
   "source": [
    "#temp =  grid[:,1][:-1]\n",
    "im = (7,7)\n",
    "a = np.zeros(im)\n",
    "temp = a[1:, 3]\n",
    "a"
   ]
  },
  {
   "cell_type": "code",
   "execution_count": null,
   "metadata": {},
   "outputs": [],
   "source": [
    "temp"
   ]
  },
  {
   "cell_type": "raw",
   "metadata": {},
   "source": [
    "grid"
   ]
  },
  {
   "cell_type": "code",
   "execution_count": null,
   "metadata": {
    "collapsed": true
   },
   "outputs": [],
   "source": [
    "temp = grid[:,3][:-1].copy()"
   ]
  },
  {
   "cell_type": "code",
   "execution_count": null,
   "metadata": {},
   "outputs": [],
   "source": [
    "temp"
   ]
  },
  {
   "cell_type": "code",
   "execution_count": null,
   "metadata": {
    "collapsed": true
   },
   "outputs": [],
   "source": [
    "grid[:, 3] = np.zeros(7)"
   ]
  },
  {
   "cell_type": "code",
   "execution_count": null,
   "metadata": {
    "collapsed": true
   },
   "outputs": [],
   "source": [
    "grid[1:, 1] = temp"
   ]
  },
  {
   "cell_type": "code",
   "execution_count": null,
   "metadata": {},
   "outputs": [],
   "source": [
    "temp"
   ]
  },
  {
   "cell_type": "code",
   "execution_count": null,
   "metadata": {},
   "outputs": [],
   "source": [
    "temp = np.array([1,0,3, 0, 1])\n",
    "list(zip(temp[:-1], temp[1:]))"
   ]
  },
  {
   "cell_type": "code",
   "execution_count": null,
   "metadata": {},
   "outputs": [],
   "source": [
    "grid.shape[1]"
   ]
  },
  {
   "cell_type": "code",
   "execution_count": null,
   "metadata": {},
   "outputs": [],
   "source": [
    "for col in g.shape[1]:\n",
    "    #print(g[:,col])\n",
    "    g[:, col] = apply_gravity_to_column(g[:, col])\n",
    "\n",
    "print(g)"
   ]
  },
  {
   "cell_type": "code",
   "execution_count": null,
   "metadata": {
    "collapsed": true
   },
   "outputs": [],
   "source": [
    "temp[0], temp[1] = temp[1], temp[0]"
   ]
  },
  {
   "cell_type": "code",
   "execution_count": null,
   "metadata": {},
   "outputs": [],
   "source": [
    "temp"
   ]
  },
  {
   "cell_type": "code",
   "execution_count": null,
   "metadata": {
    "collapsed": true
   },
   "outputs": [],
   "source": []
  },
  {
   "cell_type": "code",
   "execution_count": 13,
   "metadata": {
    "collapsed": true
   },
   "outputs": [],
   "source": [
    "# this is not being used\n",
    "def update_line(vec, colflag=True):\n",
    "    '''\n",
    "    Apply explosions and Gravity\n",
    "    Calculate points\n",
    "    '''\n",
    "    something_changed = True\n",
    "    safety_brkr =0\n",
    "    updated = vec[:]\n",
    "    while something_changed:        \n",
    "        something_changed = False\n",
    "        safety_brkr += 1\n",
    "        # print(safety_brkr)\n",
    "                \n",
    "        change, _, updated = inplace_explosions(updated)\n",
    "        if(change):\n",
    "            something_changed = True\n",
    "\n",
    "        if(colflag):\n",
    "            change, _, updated = apply_gravity_to_column(updated)\n",
    "            if(change):\n",
    "                something_changed = True\n",
    "\n",
    "\n",
    "        if safety_brkr == 100:\n",
    "            print(\"Safety Circuit Breaker. Something is not right\")\n",
    "            break\n",
    "            \n",
    "        \n",
    "    return updated\n",
    "    "
   ]
  }
 ],
 "metadata": {
  "kernelspec": {
   "display_name": "Python 3",
   "language": "python",
   "name": "python3"
  },
  "language_info": {
   "codemirror_mode": {
    "name": "ipython",
    "version": 3
   },
   "file_extension": ".py",
   "mimetype": "text/x-python",
   "name": "python",
   "nbconvert_exporter": "python",
   "pygments_lexer": "ipython3",
   "version": "3.6.0"
  }
 },
 "nbformat": 4,
 "nbformat_minor": 2
}
