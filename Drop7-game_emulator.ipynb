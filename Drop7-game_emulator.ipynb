{
 "cells": [
  {
   "cell_type": "markdown",
   "metadata": {},
   "source": [
    "The game Drop-7 was created by Zynga, and is available in the App Store.\n",
    "(Play it a few times to appreciate what follows better.)\n",
    "https://itunes.apple.com/us/app/drop7/id425242132?mt=8\n",
    "\n",
    "\n",
    "The reinforcement learning aspects of this notebook is adapted from:\n",
    "https://github.com/JannesKlaas/sometimes_deep_sometimes_learning/blob/master/reinforcement.ipynb\n",
    "\n",
    "\n"
   ]
  },
  {
   "cell_type": "markdown",
   "metadata": {},
   "source": [
    "### Logic used in Updating Grid\n",
    "\n",
    "    init_grid()\n",
    "    for each row, calculate explosions (but don't execute them)\n",
    "    for each col, caluclate explosions (but don't execute them)\n",
    "    EXECUTE ALL THE EXPLOSIONS AT ONCE.\n",
    "    Grid has been updated.\n",
    "    Now, Gravity to each of the columns.\n",
    "    Rinse and repeat!"
   ]
  },
  {
   "cell_type": "markdown",
   "metadata": {},
   "source": [
    "### Logic used in the Game Loop\n",
    "\n",
    "\n",
    "    init_grid()\n",
    "    \n",
    "    while not game_over:\n",
    "        update_grid()\n",
    "        generate_next_ball() # this where all the strategy comes in\n",
    "        get_column()\n",
    "        drop_ball_in_column()\n",
    "    \n"
   ]
  },
  {
   "cell_type": "code",
   "execution_count": 1,
   "metadata": {
    "collapsed": true
   },
   "outputs": [],
   "source": [
    "import numpy as np\n",
    "import random\n",
    "import scipy\n",
    "\n",
    "import cfg\n",
    "from grid_utils import *\n",
    "from generate_game import *\n",
    "from game_strategy import *\n",
    "from game_log import *\n"
   ]
  },
  {
   "cell_type": "code",
   "execution_count": 2,
   "metadata": {
    "collapsed": true
   },
   "outputs": [],
   "source": [
    "%matplotlib inline"
   ]
  },
  {
   "cell_type": "code",
   "execution_count": 3,
   "metadata": {
    "collapsed": true
   },
   "outputs": [],
   "source": [
    "def recreate_grid(size=cfg._SIZE):\n",
    "    grid = grid_of_zeros(size)\n",
    "    grid = row(grid, 0, '4143836')\n",
    "    grid = row(grid, 1,'7131352')\n",
    "    grid = row(grid, 2,'6260800')\n",
    "    #list('52134335')\n",
    "    return grid\n",
    "    #zecol(3)"
   ]
  },
  {
   "cell_type": "code",
   "execution_count": 44,
   "metadata": {
    "collapsed": true
   },
   "outputs": [],
   "source": [
    "def play(s, _outfile):\n",
    "    \n",
    "    \n",
    "    #s = _Stats\n",
    "    s.reset(_outfile)\n",
    "    game_over = False\n",
    "    col = 0\n",
    "    #grid = recreate_grid()\n",
    "    grid = generate_init_grid(cfg._SIZE)\n",
    "    \n",
    "    \n",
    "    while not game_over:\n",
    "        s.ball_drop() #stats\n",
    "        need_another_col = True\n",
    "        grid = update_grid(grid, s)\n",
    "        if s.ball_count % cfg._BALLS_TO_LEVELUP == 0:\n",
    "            s.level_up()\n",
    "            print(grid, s.ball_count, file=open(_outfile, \"a\"))\n",
    "            print(\"LEVEL UP\", file=open(_outfile, \"a\"))\n",
    "            grid, game_over = level_up(grid)\n",
    "            print(grid, s.ball_count, file=open(_outfile, \"a\"))\n",
    "            if game_over:\n",
    "                break\n",
    "            grid = update_grid(grid, s) #update grid after Leveling up\n",
    "            \n",
    "        print(\"NZ\", nz(grid), file=open(_outfile, \"a\"))\n",
    "        s.update_nz(nz(grid))\n",
    "        \n",
    "        ball = generate_next_ball(cfg._SIZE)\n",
    "        print(\"Ball is \", ball, \"column is\", col, \"nz\", nz(grid), file=open(_outfile, \"a\"))\n",
    "        \n",
    "        while need_another_col:\n",
    "            col = get_column_to_drop_ball(grid, ball) #All the game strategy is in this function\n",
    "            grid, game_over, need_another_col = drop_ball_in_column(grid, col, ball)\n",
    "            \n",
    "        _endisplay = show_grid(grid)\n",
    "        if _endisplay:\n",
    "            game_over = True\n",
    "        \n",
    "    print_game_over(grid, s)\n"
   ]
  },
  {
   "cell_type": "code",
   "execution_count": 45,
   "metadata": {
    "scrolled": false
   },
   "outputs": [],
   "source": [
    "import sys\n",
    "import time\n",
    "#Python image libarary for rendering\n",
    "from PIL import Image\n",
    "from IPython import display\n",
    "from matplotlib import colors\n",
    "\n",
    "#last frame time keeps track of which frame we are at\n",
    "last_frame_time = 0\n",
    "\n",
    "\n",
    "def display_screen(grid):\n",
    "    #Function used to render the game screen\n",
    "    #Get the last rendered frame\n",
    "    global last_frame_time\n",
    "    \n",
    "\n",
    "    \n",
    "    # make a color map of fixed colors\n",
    "    cmap = colors.ListedColormap(['white', 'green', 'yellow', 'orange', 'red','purple', 'lightblue', 'blue'])\n",
    "    bounds=[0,1,2,3,4,5,6,7,8] #where to separate the colors\n",
    "    norm = colors.BoundaryNorm(bounds, cmap.N)\n",
    "    plt.imshow(grid.reshape((cfg._SIZE,)*2),\n",
    "               interpolation='none', cmap=cmap, norm=norm)\n",
    "    \n",
    "\n",
    "    #And display the rendering\n",
    "    display.display(plt.gcf()) #get current figure and display it to any front-end\n",
    "\n",
    "    #Clear whatever we rendered before\n",
    "    display.clear_output(wait=True) #Wait to clear the output until new output is available to replace it.\n",
    "\n",
    "    #Update the last frame time\n",
    "    last_frame_time = set_max_fps(last_frame_time, 0.5)\n",
    "    \n",
    "\n",
    "    \n",
    "def set_max_fps(last_frame_time, FPS = 1):\n",
    "    current_milli_time = lambda: int(round(time.time() * 1000))\n",
    "    remaining_sleep_time = 1./FPS - (current_milli_time() - last_frame_time)/1000.\n",
    "    if remaining_sleep_time > 0:\n",
    "        time.sleep(remaining_sleep_time)\n",
    "    return current_milli_time()\n",
    "\n",
    "\n",
    "def show_grid(grid):\n",
    "\n",
    "    try:\n",
    "        display_screen(grid)\n",
    "    except KeyboardInterrupt:\n",
    "        #break\n",
    "        return 1\n",
    "        #sys.exit(0)\n",
    "            \n",
    "    return 0"
   ]
  },
  {
   "cell_type": "code",
   "execution_count": 46,
   "metadata": {},
   "outputs": [
    {
     "name": "stdout",
     "output_type": "stream",
     "text": [
      "GAME OVER\n",
      "[[0 0 0 0 0 0 0]\n",
      " [0 0 0 0 0 0 0]\n",
      " [0 0 0 0 0 0 0]\n",
      " [0 0 0 0 0 0 0]\n",
      " [5 0 0 0 0 0 0]\n",
      " [6 0 1 6 0 4 3]\n",
      " [6 0 1 6 3 6 4]]\n",
      "12\n",
      "DONE\n",
      "4 0 39\n",
      "Wall time: 6.2 s\n"
     ]
    },
    {
     "data": {
      "image/png": "[encoded data removed]",
      "text/plain": [
       "<matplotlib.figure.Figure at 0x956e908>"
      ]
     },
     "metadata": {},
     "output_type": "display_data"
    }
   ],
   "source": [
    "%%time\n",
    "from game_log import _Stats\n",
    "s = _Stats\n",
    "play(s, cfg._outfile)"
   ]
  },
  {
   "cell_type": "code",
   "execution_count": 35,
   "metadata": {},
   "outputs": [
    {
     "data": {
      "image/png": "[encoded data removed]",
      "text/plain": [
       "<matplotlib.figure.Figure at 0x9b7ed30>"
      ]
     },
     "metadata": {},
     "output_type": "display_data"
    }
   ],
   "source": [
    "grid = generate_init_grid(7)\n",
    "show_grid(grid)\n",
    "grid, game_over, need_another_col = drop_ball_in_column(ball=3, col=3, grid=grid)\n",
    "show_grid(grid)\n",
    "grid, game_over, need_another_col = drop_ball_in_column(ball=3, col=3, grid=grid)\n",
    "show_grid(grid)\n",
    "grid, game_over, need_another_col = drop_ball_in_column(ball=3, col=3, grid=grid)\n",
    "show_grid(grid)"
   ]
  },
  {
   "cell_type": "code",
   "execution_count": null,
   "metadata": {
    "collapsed": true
   },
   "outputs": [],
   "source": [
    "pd.Series(s.nz).plot()\n",
    "pd.Series(s.ptslist).cumsum().plot()\n"
   ]
  },
  {
   "cell_type": "code",
   "execution_count": null,
   "metadata": {
    "collapsed": true
   },
   "outputs": [],
   "source": [
    "grid"
   ]
  },
  {
   "cell_type": "code",
   "execution_count": null,
   "metadata": {
    "collapsed": true
   },
   "outputs": [],
   "source": [
    "vec = [7,2,3,4,4,5,6]\n",
    "inplace_explosions(vec)"
   ]
  },
  {
   "cell_type": "markdown",
   "metadata": {},
   "source": [
    "[531...\n",
    "["
   ]
  },
  {
   "cell_type": "code",
   "execution_count": null,
   "metadata": {
    "collapsed": true
   },
   "outputs": [],
   "source": [
    "vec = [0, 0, 0, 4, 7, 4, 7]\n",
    "vec = [4, 1, 4, 3, 7, 7, 2]\n",
    "\n",
    "vec = [int(x) for x in list('4327147')]\n",
    "#apply_explosions_to_line(vec, HORIZ)\n",
    "update_line(vec, 1)"
   ]
  },
  {
   "cell_type": "code",
   "execution_count": null,
   "metadata": {
    "collapsed": true
   },
   "outputs": [],
   "source": [
    "generate_init_grid(4)\n"
   ]
  },
  {
   "cell_type": "code",
   "execution_count": null,
   "metadata": {
    "collapsed": true
   },
   "outputs": [],
   "source": [
    "class Drop7(object):\n",
    "    \"\"\"\n",
    "    Class Drop7 is the actual game.\n",
    "    \n",
    "    \n",
    "    \"\"\"\n",
    "    def __init__(self, grid_size=7):\n",
    "        self.grid_size = grid_size\n",
    "        self.reset()\n",
    "\n",
    "    def _update_state(self, action):\n",
    "        \"\"\"\n",
    "        Input: action and states\n",
    "        Ouput: new states and reward\n",
    "        \"\"\"\n",
    "        state = self.state\n",
    "        if action == 0:  # left\n",
    "            action = -1\n",
    "        elif action == 1:  # stay\n",
    "            action = 0\n",
    "        else:\n",
    "            action = 1  # right\n",
    "        f0, f1, basket = state[0]\n",
    "        new_basket = min(max(1, basket + action), self.grid_size-1)\n",
    "        f0 += 1\n",
    "        out = np.asarray([f0, f1, new_basket])\n",
    "        out = out[np.newaxis]\n",
    "\n",
    "        assert len(out.shape) == 2\n",
    "        self.state = out\n",
    "\n",
    "    def _draw_state(self):\n",
    "        im_size = (self.grid_size,)*2\n",
    "        state = self.state[0]\n",
    "        canvas = np.zeros(im_size)\n",
    "        canvas[state[0], state[1]] = 1  # draw fruit\n",
    "        canvas[-1, state[2]-1:state[2] + 2] = 1  # draw basket\n",
    "        return canvas\n",
    "        \n",
    "    def _get_reward(self):\n",
    "        fruit_row, fruit_col, basket = self.state[0]\n",
    "        if fruit_row == self.grid_size-1:\n",
    "            if abs(fruit_col - basket) <= 1:\n",
    "                return 1\n",
    "            else:\n",
    "                return -1\n",
    "        else:\n",
    "            return 0\n",
    "\n",
    "    def _is_over(self):\n",
    "        if self.state[0, 0] == self.grid_size-1:\n",
    "            return True\n",
    "        else:\n",
    "            return False\n",
    "\n",
    "    def observe(self):\n",
    "        canvas = self._draw_state()\n",
    "        return canvas.reshape((1, -1))\n",
    "\n",
    "    def act(self, action):\n",
    "        self._update_state(action)\n",
    "        reward = self._get_reward()\n",
    "        game_over = self._is_over()\n",
    "        return self.observe(), reward, game_over\n",
    "\n",
    "    def reset(self):\n",
    "        n = np.random.randint(0, self.grid_size-1, size=1)\n",
    "        m = np.random.randint(1, self.grid_size-2, size=1)\n",
    "        self.state = np.asarray([0, n, m])[np.newaxis]\n",
    "        \n",
    "    def get_state(self):\n",
    "        return self.state"
   ]
  },
  {
   "cell_type": "code",
   "execution_count": null,
   "metadata": {
    "collapsed": true
   },
   "outputs": [],
   "source": [
    "class Catch(object):\n",
    "    \"\"\"\n",
    "    Class Catch is the actual game.\n",
    "    \n",
    "    \n",
    "    \"\"\"\n",
    "    def __init__(self, grid_size=7):\n",
    "        self.grid_size = grid_size\n",
    "        self.reset() # redraws the grid...\n",
    "\n",
    "    def _update_state(self, action):\n",
    "        \"\"\"\n",
    "        Input: action and states\n",
    "        Ouput: new states and reward\n",
    "        \n",
    "        This is typically called by act().\n",
    "        \"\"\"\n",
    "        state = self.state\n",
    "        print(\"state before action\", self.state)\n",
    "        if action == 0:  # left\n",
    "            action = -1\n",
    "        elif action == 1:  # stay\n",
    "            action = 0\n",
    "        else:\n",
    "            action = 1  # right\n",
    "        fr, fc, basket = state[0]\n",
    "        new_basket = min(max(1, basket + action), self.grid_size-1)\n",
    "        fr += 1 #ball drops down\n",
    "        out = np.asarray([fr, fc, new_basket])\n",
    "        out = out[np.newaxis]\n",
    "\n",
    "        assert len(out.shape) == 2\n",
    "        self.state = out\n",
    "\n",
    "    def _draw_state(self):\n",
    "        im_size = (self.grid_size,)*2\n",
    "        state = self.state[0]\n",
    "        canvas = np.zeros(im_size)\n",
    "        canvas[state[0], state[1]] = 1  # draw fruit\n",
    "        canvas[-1, state[2]-1:state[2] + 2] = 1  # draw basket\n",
    "        return canvas\n",
    "        \n",
    "    def _get_reward(self):\n",
    "        fruit_row, fruit_col, basket = self.state[0]\n",
    "        print(self.state[0])\n",
    "        # only the final action (catch or drop the ball) gets a nonzero reward\n",
    "        if fruit_row == self.grid_size-1: \n",
    "            if abs(fruit_col - basket) <= 1:\n",
    "                return 1\n",
    "            else:\n",
    "                return -1\n",
    "        else:\n",
    "            return 0\n",
    "\n",
    "    def _is_over(self):\n",
    "        if self.state[0, 0] == self.grid_size-1:\n",
    "            return True\n",
    "        else:\n",
    "            return False\n",
    "\n",
    "    def observe(self):\n",
    "        canvas = self._draw_state()\n",
    "        return canvas.reshape((1, -1))\n",
    "\n",
    "    def act(self, action):\n",
    "        self._update_state(action)\n",
    "        reward = self._get_reward()\n",
    "        game_over = self._is_over()\n",
    "        return self.observe(), reward, game_over\n",
    "\n",
    "    def reset(self):\n",
    "        n = np.random.randint(0, self.grid_size-1, size=1) #column of the Ball\n",
    "        m = np.random.randint(1, self.grid_size-2, size=1) # column of Basket center\n",
    "        self.state = np.asarray([0, n, m])[np.newaxis]\n",
    "        \n",
    "    def get_state(self):\n",
    "        return self.state"
   ]
  },
  {
   "cell_type": "code",
   "execution_count": null,
   "metadata": {
    "collapsed": true
   },
   "outputs": [],
   "source": [
    "env = Drop7()\n",
    "env.get_state()"
   ]
  },
  {
   "cell_type": "code",
   "execution_count": null,
   "metadata": {
    "collapsed": true
   },
   "outputs": [],
   "source": [
    "# Define environment/game\n",
    "grid_size = 7\n",
    "env = Drop7(grid_size)"
   ]
  },
  {
   "cell_type": "code",
   "execution_count": null,
   "metadata": {
    "collapsed": true
   },
   "outputs": [],
   "source": [
    "env.reset()"
   ]
  },
  {
   "cell_type": "code",
   "execution_count": null,
   "metadata": {
    "collapsed": true
   },
   "outputs": [],
   "source": [
    "env.observe()"
   ]
  },
  {
   "cell_type": "code",
   "execution_count": null,
   "metadata": {
    "collapsed": true
   },
   "outputs": [],
   "source": [
    "env._draw_state()"
   ]
  },
  {
   "cell_type": "code",
   "execution_count": null,
   "metadata": {
    "collapsed": true
   },
   "outputs": [],
   "source": [
    "env.reset()"
   ]
  },
  {
   "cell_type": "code",
   "execution_count": null,
   "metadata": {
    "collapsed": true
   },
   "outputs": [],
   "source": [
    "env.act(-1)\n",
    "env._draw_state()\n",
    "env.get_state(), env._get_reward()\n"
   ]
  },
  {
   "cell_type": "code",
   "execution_count": null,
   "metadata": {
    "collapsed": true
   },
   "outputs": [],
   "source": [
    "env.observe()"
   ]
  },
  {
   "cell_type": "code",
   "execution_count": null,
   "metadata": {
    "collapsed": true
   },
   "outputs": [],
   "source": [
    "env.get_state()[0,1]"
   ]
  },
  {
   "cell_type": "code",
   "execution_count": null,
   "metadata": {
    "collapsed": true
   },
   "outputs": [],
   "source": [
    "c"
   ]
  },
  {
   "cell_type": "code",
   "execution_count": null,
   "metadata": {
    "collapsed": true
   },
   "outputs": [],
   "source": [
    "state =  np.asarray([0, 1, 2])[np.newaxis]"
   ]
  },
  {
   "cell_type": "code",
   "execution_count": null,
   "metadata": {
    "collapsed": true
   },
   "outputs": [],
   "source": [
    "np.asarray([1,1,1]).shape, np.asarray([1,1,1])[np.newaxis][np.newaxis].shape"
   ]
  },
  {
   "cell_type": "code",
   "execution_count": null,
   "metadata": {
    "collapsed": true
   },
   "outputs": [],
   "source": [
    "state[0,1]"
   ]
  },
  {
   "cell_type": "code",
   "execution_count": null,
   "metadata": {
    "collapsed": true
   },
   "outputs": [],
   "source": [
    "grid_size=7\n",
    "im_size = (grid_size,)*2\n",
    "grid = np.zeros(im_size)\n",
    "grid"
   ]
  },
  {
   "cell_type": "code",
   "execution_count": null,
   "metadata": {
    "collapsed": true
   },
   "outputs": [],
   "source": [
    "grid[:,2]"
   ]
  },
  {
   "cell_type": "code",
   "execution_count": null,
   "metadata": {
    "collapsed": true
   },
   "outputs": [],
   "source": [
    "grid[2]  = 3"
   ]
  },
  {
   "cell_type": "code",
   "execution_count": null,
   "metadata": {
    "collapsed": true
   },
   "outputs": [],
   "source": [
    "grid[:,2] = 4"
   ]
  },
  {
   "cell_type": "code",
   "execution_count": null,
   "metadata": {
    "collapsed": true
   },
   "outputs": [],
   "source": [
    "grid[6,6] = 6"
   ]
  },
  {
   "cell_type": "code",
   "execution_count": null,
   "metadata": {
    "collapsed": true
   },
   "outputs": [],
   "source": [
    "#temp =  grid[:,1][:-1]\n",
    "im = (7,7)\n",
    "a = np.zeros(im)\n",
    "temp = a[1:, 3]\n",
    "a"
   ]
  },
  {
   "cell_type": "code",
   "execution_count": null,
   "metadata": {
    "collapsed": true
   },
   "outputs": [],
   "source": [
    "temp"
   ]
  },
  {
   "cell_type": "raw",
   "metadata": {},
   "source": [
    "grid"
   ]
  },
  {
   "cell_type": "code",
   "execution_count": null,
   "metadata": {
    "collapsed": true
   },
   "outputs": [],
   "source": [
    "temp = grid[:,3][:-1].copy()"
   ]
  },
  {
   "cell_type": "code",
   "execution_count": null,
   "metadata": {
    "collapsed": true
   },
   "outputs": [],
   "source": [
    "temp"
   ]
  },
  {
   "cell_type": "code",
   "execution_count": null,
   "metadata": {
    "collapsed": true
   },
   "outputs": [],
   "source": [
    "grid[:, 3] = np.zeros(7)"
   ]
  },
  {
   "cell_type": "code",
   "execution_count": null,
   "metadata": {
    "collapsed": true
   },
   "outputs": [],
   "source": [
    "grid[1:, 1] = temp"
   ]
  },
  {
   "cell_type": "code",
   "execution_count": null,
   "metadata": {
    "collapsed": true
   },
   "outputs": [],
   "source": [
    "temp"
   ]
  },
  {
   "cell_type": "code",
   "execution_count": null,
   "metadata": {
    "collapsed": true
   },
   "outputs": [],
   "source": [
    "temp = np.array([1,0,3, 0, 1])\n",
    "list(zip(temp[:-1], temp[1:]))"
   ]
  },
  {
   "cell_type": "code",
   "execution_count": null,
   "metadata": {
    "collapsed": true
   },
   "outputs": [],
   "source": [
    "grid.shape[1]"
   ]
  },
  {
   "cell_type": "code",
   "execution_count": null,
   "metadata": {
    "collapsed": true
   },
   "outputs": [],
   "source": [
    "for col in g.shape[1]:\n",
    "    #print(g[:,col])\n",
    "    g[:, col] = apply_gravity_to_column(g[:, col])\n",
    "\n",
    "print(g)"
   ]
  },
  {
   "cell_type": "code",
   "execution_count": null,
   "metadata": {
    "collapsed": true
   },
   "outputs": [],
   "source": [
    "temp[0], temp[1] = temp[1], temp[0]"
   ]
  },
  {
   "cell_type": "code",
   "execution_count": null,
   "metadata": {
    "collapsed": true
   },
   "outputs": [],
   "source": [
    "temp"
   ]
  },
  {
   "cell_type": "code",
   "execution_count": null,
   "metadata": {
    "collapsed": true
   },
   "outputs": [],
   "source": []
  },
  {
   "cell_type": "code",
   "execution_count": null,
   "metadata": {
    "collapsed": true
   },
   "outputs": [],
   "source": [
    "# this is not being used\n",
    "def update_line(vec, colflag=True):\n",
    "    '''\n",
    "    Apply explosions and Gravity\n",
    "    Calculate points\n",
    "    '''\n",
    "    something_changed = True\n",
    "    safety_brkr =0\n",
    "    updated = vec[:]\n",
    "    while something_changed:        \n",
    "        something_changed = False\n",
    "        safety_brkr += 1\n",
    "        # print(safety_brkr)\n",
    "                \n",
    "        change, _, updated = inplace_explosions(updated)\n",
    "        if(change):\n",
    "            something_changed = True\n",
    "\n",
    "        if(colflag):\n",
    "            change, _, updated = apply_gravity_to_column(updated)\n",
    "            if(change):\n",
    "                something_changed = True\n",
    "\n",
    "\n",
    "        if safety_brkr == 100:\n",
    "            print(\"Safety Circuit Breaker. Something is not right\")\n",
    "            break\n",
    "            \n",
    "        \n",
    "    return updated\n",
    "    "
   ]
  }
 ],
 "metadata": {
  "kernelspec": {
   "display_name": "Python 3",
   "language": "python",
   "name": "python3"
  },
  "language_info": {
   "codemirror_mode": {
    "name": "ipython",
    "version": 3
   },
   "file_extension": ".py",
   "mimetype": "text/x-python",
   "name": "python",
   "nbconvert_exporter": "python",
   "pygments_lexer": "ipython3",
   "version": "3.6.0"
  }
 },
 "nbformat": 4,
 "nbformat_minor": 2
}
